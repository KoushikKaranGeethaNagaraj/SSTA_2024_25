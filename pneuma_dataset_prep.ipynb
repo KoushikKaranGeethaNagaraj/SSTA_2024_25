{
 "cells": [
  {
   "cell_type": "code",
   "execution_count": 3,
   "metadata": {},
   "outputs": [],
   "source": []
  },
  {
   "cell_type": "code",
   "execution_count": 26,
   "metadata": {},
   "outputs": [
    {
     "data": {
      "text/plain": [
       "True"
      ]
     },
     "execution_count": 26,
     "metadata": {},
     "output_type": "execute_result"
    }
   ],
   "source": [
    "\n",
    "\n",
    "import cv2\n",
    "image=cv2.imread(r\"Pneuma_dataset\\20181029_D2_0900_0930\\Frames\\00001.jpg\")\n",
    "# Get image dimensions\n",
    "height, width, _ = image.shape\n",
    "\n",
    "# Define the size of the crop (adjust based on your needs)\n",
    "crop_size = 800  # This will create a 200x200 crop\n",
    "\n",
    "# Calculate the coordinates for the center of the image\n",
    "center_x = width // 2\n",
    "center_y = height // 2\n",
    "shift_up=250\n",
    "shift_left=50\n",
    "shift_down=430\n",
    "# Calculate the top-left and bottom-right coordinates of the crop area\n",
    "x1a = center_x - crop_size // 2-shift_left\n",
    "y1a = center_y - crop_size // 2-shift_up\n",
    "x2a = center_x + crop_size // 2-shift_left\n",
    "y2a = center_y + crop_size // 2-shift_up\n",
    "\n",
    "\n",
    "x1b = center_x - crop_size // 2-shift_left\n",
    "y1b = center_y - crop_size // 2+shift_down\n",
    "x2b = center_x + crop_size // 2-shift_left\n",
    "y2b = center_y + crop_size // 2+shift_down\n",
    "\n",
    "# Perform the crop\n",
    "cropped_image_1 = cv2.resize(image[y1a:y2a, x1a:x2a],(640,640))\n",
    "\n",
    "cropped_image_2 = cv2.resize(image[y1b:y2b, x1b:x2b],(640,640))\n",
    "\n",
    "\n",
    "# # Step 4: Save the cropped images\n",
    "# cv2.imwrite('cropped_part1.jpg', cropped_image_1)\n",
    "# cv2.imwrite('cropped_part2.jpg', cropped_image_2)"
   ]
  },
  {
   "cell_type": "code",
   "execution_count": 7,
   "metadata": {},
   "outputs": [
    {
     "name": "stdout",
     "output_type": "stream",
     "text": [
      "Cars removed and image saved as 'inpainted_image.jpg'.\n"
     ]
    }
   ],
   "source": [
    "import cv2\n",
    "import numpy as np\n",
    "\n",
    "# Load the image\n",
    "image = cv2.imread(r'Pneuma_dataset\\pneuma_20181029_0_1_D2_0900_0930\\train\\camera_0\\image_0.jpg')\n",
    "\n",
    "# Convert to grayscale\n",
    "gray = cv2.cvtColor(image, cv2.COLOR_BGR2GRAY)\n",
    "\n",
    "# Use edge detection to create a mask for inpainting\n",
    "edges = cv2.Canny(gray, 50, 150)\n",
    "\n",
    "# Dilate the edges to create a thicker mask\n",
    "kernel = np.ones((5, 5), np.uint8)\n",
    "edges_dilated = cv2.dilate(edges, kernel, iterations=1)\n",
    "\n",
    "# Inpaint the image using the mask\n",
    "inpainted_image = cv2.inpaint(image, edges_dilated, 3, cv2.INPAINT_TELEA)\n",
    "\n",
    "# Save the inpainted image\n",
    "cv2.imwrite(r'Pneuma_dataset/remove.jpg', inpainted_image)\n",
    "\n",
    "print(\"Cars removed and image saved as 'inpainted_image.jpg'.\")\n"
   ]
  },
  {
   "cell_type": "code",
   "execution_count": 5,
   "metadata": {},
   "outputs": [
    {
     "name": "stdout",
     "output_type": "stream",
     "text": [
      "['01901.jpg', '01902.jpg', '01903.jpg', '01904.jpg', '01905.jpg', '01906.jpg', '01907.jpg', '01908.jpg', '01909.jpg', '01910.jpg', '01911.jpg', '01912.jpg', '01913.jpg', '01914.jpg', '01915.jpg', '01916.jpg', '01917.jpg', '01918.jpg', '01919.jpg', '01920.jpg', '01921.jpg', '01922.jpg', '01923.jpg', '01924.jpg', '01925.jpg', '01926.jpg', '01927.jpg', '01928.jpg', '01929.jpg', '01930.jpg', '01931.jpg', '01932.jpg', '01933.jpg', '01934.jpg', '01935.jpg', '01936.jpg', '01937.jpg', '01938.jpg', '01939.jpg', '01940.jpg', '01941.jpg', '01942.jpg', '01943.jpg', '01944.jpg', '01945.jpg', '01946.jpg', '01947.jpg', '01948.jpg', '01949.jpg', '01950.jpg', '01951.jpg', '01952.jpg', '01953.jpg', '01954.jpg', '01955.jpg', '01956.jpg', '01957.jpg', '01958.jpg', '01959.jpg', '01960.jpg', '01961.jpg', '01962.jpg', '01963.jpg', '01964.jpg', '01965.jpg', '01966.jpg', '01967.jpg', '01968.jpg', '01969.jpg', '01970.jpg', '01971.jpg', '01972.jpg', '01973.jpg', '01974.jpg', '01975.jpg', '01976.jpg', '01977.jpg', '01978.jpg', '01979.jpg', '01980.jpg', '01981.jpg', '01982.jpg', '01983.jpg', '01984.jpg', '01985.jpg', '01986.jpg', '01987.jpg', '01988.jpg', '01989.jpg', '01990.jpg', '01991.jpg', '01992.jpg', '01993.jpg', '01994.jpg', '01995.jpg', '01996.jpg', '01997.jpg', '01998.jpg', '01999.jpg', '02000.jpg']\n"
     ]
    }
   ],
   "source": [
    "import cv2\n",
    "import os\n",
    "\n",
    "# Define the path to the directory containing the images\n",
    "pneuma_file_frames = r'C:\\Users\\Welcome\\Documents\\Kouby\\M.S.Robo- Georgia Tech\\GATECH LABS\\SHREYAS_LAB\\SSTA_2024_25\\Pneuma_dataset\\20181029_D2_0900_0930\\Frames\\test'\n",
    "# List all PNG files in the directory\n",
    "image_files = sorted([f for f in os.listdir(pneuma_file_frames) if f.endswith('.jpg')])\n",
    "camera_0_path=r\"Pneuma_dataset\\pneuma_20181029_0_1_D2_0900_0930\\test\\camera_0\"\n",
    "camera_1_path=r\"Pneuma_dataset\\pneuma_20181029_0_1_D2_0900_0930\\test\\camera_1\"\n",
    "print(image_files)\n",
    "for idx, image_file in enumerate(image_files):\n",
    "        # idx=idx+2000\n",
    "        # Construct the full path to the image\n",
    "        image_path = os.path.join(pneuma_file_frames, image_file)\n",
    "        # Read the image using OpenCV\n",
    "        image = cv2.imread(image_path)\n",
    "        # print(image)\n",
    "        height, width, _ = image.shape\n",
    "\n",
    "        # Define the size of the crop (adjust based on your needs)\n",
    "        crop_size = 800  # This will create a 200x200 crop\n",
    "\n",
    "        # Calculate the coordinates for the center of the image\n",
    "        center_x = width // 2\n",
    "        center_y = height // 2\n",
    "        shift_up=250\n",
    "        shift_left=50\n",
    "        shift_down=430\n",
    "        # Calculate the top-left and bottom-right coordinates of the crop area\n",
    "        x1a = center_x - crop_size // 2-shift_left\n",
    "        y1a = center_y - crop_size // 2-shift_up\n",
    "        x2a = center_x + crop_size // 2-shift_left\n",
    "        y2a = center_y + crop_size // 2-shift_up\n",
    "\n",
    "\n",
    "        x1b = center_x - crop_size // 2-shift_left\n",
    "        y1b = center_y - crop_size // 2+shift_down\n",
    "        x2b = center_x + crop_size // 2-shift_left\n",
    "        y2b = center_y + crop_size // 2+shift_down\n",
    "\n",
    "        # Perform the crop\n",
    "        camera_image_0 = cv2.resize(image[y1a:y2a, x1a:x2a],(640,640))\n",
    "        camera_image_1 = cv2.resize(image[y1b:y2b, x1b:x2b],(640,640))\n",
    "        output_filename = f'image_{idx}.jpg'\n",
    "        output_path_camera_0 = os.path.join(camera_0_path, output_filename)\n",
    "        output_path_camera_1 = os.path.join(camera_1_path, output_filename)\n",
    "        cv2.imwrite(output_path_camera_0,camera_image_0)\n",
    "        cv2.imwrite(output_path_camera_1,camera_image_1)\n",
    "        \n",
    "\n",
    "\n",
    "\n"
   ]
  },
  {
   "cell_type": "code",
   "execution_count": 4,
   "metadata": {},
   "outputs": [],
   "source": [
    "import cv2\n",
    "\n",
    "# Load the image\n",
    "image = cv2.imread(r\"C:\\Users\\Welcome\\Documents\\Kouby\\M.S.Robo- Georgia Tech\\GATECH LABS\\SHREYAS_LAB\\SSTA_2024_25\\Pneuma_dataset\\pneuma_20181029_0_1_D2_0900_0930\\test\\_MOG_t2no_10\\camera_0\\t2no_00000034.png\")\n",
    "\n",
    "# Display the image in a window\n",
    "cv2.imshow(\"show\", image/10)\n",
    "\n",
    "# Wait for 'q' to be pressed to close the window\n",
    "while True:\n",
    "    if cv2.waitKey(1) & 0xFF == ord('q'):\n",
    "        break\n",
    "\n",
    "# Close all OpenCV windows\n",
    "cv2.destroyAllWindows()\n"
   ]
  },
  {
   "cell_type": "code",
   "execution_count": 8,
   "metadata": {},
   "outputs": [],
   "source": [
    "import cv2\n",
    "import os\n",
    "\n",
    "# Path to the folder containing frames\n",
    "folder_path = r\"C:\\Users\\Welcome\\Documents\\Kouby\\M.S.Robo- Georgia Tech\\GATECH LABS\\SHREYAS_LAB\\SSTA_2024_25\\Pneuma_dataset\\pneuma_20181029_0_1_D2_0900_0930\\test\\_MOG_t2no_10\"\n",
    "# Get the list of image files in the folder\n",
    "frames = sorted([os.path.join(folder_path, f) for f in os.listdir(folder_path) if f.endswith(('.png', '.jpg', '.jpeg'))])\n",
    "# Set the frame rate (adjust as needed)\n",
    "frame_rate = 30  # Frames per second\n",
    "\n",
    "# Loop through the frames and display them as a video\n",
    "for frame_path in frames:\n",
    "    # Read the current frame\n",
    "    image = cv2.imread(frame_path)\n",
    "    # Display the image in a window\n",
    "    cv2.imshow(\"Video\", image)\n",
    "    # Wait for the frame rate duration\n",
    "      if cv2.waitKey(int(1000 / frame_rate)) & 0xFF == ord('q'):\n",
    "        break\n",
    "\n",
    "# Close all OpenCV windows\n",
    "cv2.destroyAllWindows()\n"
   ]
  },
  {
   "cell_type": "code",
   "execution_count": null,
   "metadata": {},
   "outputs": [],
   "source": []
  }
 ],
 "metadata": {
  "kernelspec": {
   "display_name": "ssta",
   "language": "python",
   "name": "python3"
  },
  "language_info": {
   "codemirror_mode": {
    "name": "ipython",
    "version": 3
   },
   "file_extension": ".py",
   "mimetype": "text/x-python",
   "name": "python",
   "nbconvert_exporter": "python",
   "pygments_lexer": "ipython3",
   "version": "3.7.5"
  }
 },
 "nbformat": 4,
 "nbformat_minor": 2
}
